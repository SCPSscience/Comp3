{
  "nbformat": 4,
  "nbformat_minor": 0,
  "metadata": {
    "colab": {
      "name": "Jupyter Notebook: Classification of Organisms (1902).ipynb",
      "version": "0.3.2",
      "provenance": [],
      "collapsed_sections": [
        "ETrUHW3J1O7r",
        "l2gzxlo-gw85",
        "3agrj3Bvh1Ao",
        "j_X0Qa2msG5G",
        "V9VCGXxfpTSI",
        "xgXaje920m5C",
        "nfLiAkjRpuOW",
        "jdK_r_Po41aQ",
        "gjBIv4tWqlyy",
        "6B9pemhesG6N",
        "NRPySJcRqX_9"
      ]
    },
    "kernelspec": {
      "display_name": "Python 3",
      "language": "python",
      "name": "python3"
    }
  },
  "cells": [
    {
      "metadata": {
        "id": "O7mgWMrDeZSX",
        "colab_type": "text"
      },
      "cell_type": "markdown",
      "source": [
        "# <center> Welcom to Jupyter Notebooks - Classification of Organisms </center>\n",
        "---\n"
      ]
    },
    {
      "metadata": {
        "id": "TanXZ2fcnrao",
        "colab_type": "text"
      },
      "cell_type": "markdown",
      "source": [
        "<center> ![alt text](https://cdn-images-1.medium.com/letterbox/266/72/50/50/1*wOHyKy6fl3ltcBMNpCvC6Q.png?source=logoAvatar-lo_XrkzqdM0PkJD---95916e268740\"Jupyter Notebook Logo\")</center>\n",
        "\n",
        "<center> <font size =\"6pt\" color = \"maroon\"> **Classification ot Organisms** </font> </center>\n",
        "\n",
        " <center>Using a Digital Dichotomous Key</center>\n",
        "<br>\n",
        "\n",
        "<center> **Some reminders about Jupyter Notebook** </center>\n",
        "\n",
        "Welcome to back to Jupyter Notebooks, your  coding headquarters in science class.  Learning how to code is a lot like learning a new language, the language you will begin to learn today is called _**Python**_.  Python is a language used to write phone applications, program websites, and by scientists for data analysis.  Just like in a foreign language class, you aren't expected to write in paragraphs right away.  \n",
        "<br>\n",
        "**Jupyter Notebooks** is a coding tool that helps you learn to \"speak\" python by breaking code into small parts called **blocks**, writing one block of code is a lot like writing one sentence (if you learn to write enough sentences, you can eventually write paragraphs).\n",
        "<br>\n",
        "<br>\n",
        "The block you are reading right now is called a markdown.  The purpose of a **markdown** is to give you easy to read instructions or explanations between coding blocks.  The grey sections you'll see below are **coding** blocks.  This is where you can edit the code to tell the computer what to do!\n",
        "\n",
        "<center>Access the coding booklet [here](https://drive.google.com/open?id=1ulyFE4DxclhUNF0HeaYIsHdSuBRT55GDWWHDX8hFr-o)</center>\n"
      ]
    },
    {
      "metadata": {
        "id": "FfzeOtdUsG4d",
        "colab_type": "text"
      },
      "cell_type": "markdown",
      "source": [
        "<font size =\"5pt\" > **A Dichotomous Key is....** </font>\n",
        "\n",
        "A tool that allows scienctists to identify and classify organisms in the natural world.  Based on their characterists, scienctists can narrow down species into groups such as trees, flowers, mammals, reptiles, rocks, and fish that share common characteristics. A Dichotomous Key can help to understand how scientists have classified organisms using Bionomial Nomenclature.\n",
        "\n",
        "<center><img src=\"http://biology-igcse.weebly.com/uploads/1/5/0/7/15070316/8196495_orig.gif\" width=\"60%\"></center>\n",
        "\n",
        "<center><font color='green'>You can find out more about Dichotomous Keys by watching this video.</font> [Dichotomous Key Video](https://www.youtube.com/watch?v=M51AKJqx-7s) </center>\n",
        "\n",
        "\n",
        "\n",
        "\n",
        "\n"
      ]
    },
    {
      "metadata": {
        "id": "ETrUHW3J1O7r",
        "colab_type": "text"
      },
      "cell_type": "markdown",
      "source": [
        "### <font color = \"magenta\">**<u>Pre-Coding Questions</u>** </font>\n",
        "\n",
        "_Write the answers to each of these questions into your coding booklet._\n",
        "\n",
        "> a. After watching the video and reading, what is a dichotomous key and why is it useful for scientists who study organisms.\n",
        "<br>\n",
        "<br>\n",
        "> b. Why do scientists classify organisms? How does this help with research?\n",
        "<br>\n",
        "<br>\n",
        "> c. Why is using a digital dichotomous key useful?   "
      ]
    },
    {
      "metadata": {
        "id": "l2gzxlo-gw85",
        "colab_type": "text"
      },
      "cell_type": "markdown",
      "source": [
        "# <center>Part 1: Importing Function Libraries</center>\n",
        "---"
      ]
    },
    {
      "metadata": {
        "id": "92o5tnzW16LW",
        "colab_type": "text"
      },
      "cell_type": "markdown",
      "source": [
        "Just like last time you need to import your **libraries** so that your Jupyter Notebook has the language (functions) it needs to do what you ask it.  As always, we provide you the libraries you need to be successful!  There is no need to change anything in this coding block.\n",
        "\n",
        "<u>Reflection Questions</u>\n",
        "  - Can you find the comment in the coding block?  Do you remember how to make something a comment?\n",
        "  - Why is it always necessary to import libraries?   Why do you think they are not automatically part of all Jupyter Notebooks?\n",
        "  - What is the difference between a coding block and a markdown block?  Can you find an example of each?\n",
        "\n",
        "Be sure to run the **code block** by either pressing the \"play button\" or by clicking on the coding block and holding shift and pressing enter."
      ]
    },
    {
      "metadata": {
        "id": "6Nk1BQRssG4h",
        "colab_type": "code",
        "colab": {}
      },
      "cell_type": "code",
      "source": [
        "# Import modules that contain functions we need\n",
        "import pandas as pd\n",
        "import numpy as np\n",
        "%matplotlib inline\n",
        "import matplotlib.pyplot as plt\n",
        "from IPython.display import Image\n",
        "from IPython.core.display import HTML"
      ],
      "execution_count": 0,
      "outputs": []
    },
    {
      "metadata": {
        "id": "3agrj3Bvh1Ao",
        "colab_type": "text"
      },
      "cell_type": "markdown",
      "source": [
        "# <center>Part 2: Importing Data to the Notebook</center>\n",
        "---"
      ]
    },
    {
      "metadata": {
        "id": "NU086bDk19Dv",
        "colab_type": "text"
      },
      "cell_type": "markdown",
      "source": [
        "\n",
        "\n",
        "Our data is the dichotomous key table and is defined as the word 'key'.  Remember, we can call the data anything we want.  When you code <font color=\"blue\"> key = </font> <font color=\"purple\">pd</font>.<font color=\"green\">read_csv</font>(<font color=\"red\">data file location</font>) you are telling your notebook to do the following...\n",
        "\n",
        "- <font color=\"blue\"> key = </font> setting the name \"key\" as a short name for your data file\n",
        "- <font color=\"purple\">pd</font> accessing the pandas library we imported in part 1\n",
        "- <font color=\"green\">read_csv</font> using the \"read_csv\" function so your notebook knows how to interpret your data, which is in a csv excel spreadsheet format\n",
        "- <font color=\"red\">web address of data file</font> telling your notebook where to find the data file on the internet\n",
        "\n",
        "So we have set key equal to the .csv file that is read by pandas and imported our data into our program (notebook).  We do this twice"
      ]
    },
    {
      "metadata": {
        "id": "TWQ3Oy-1sG4u",
        "colab_type": "code",
        "colab": {}
      },
      "cell_type": "code",
      "source": [
        "#This \"key\" has all of the sorting information\n",
        "key = pd.read_csv(\"https://gist.githubusercontent.com/GoodmanSciences/f4d51945a169ef3125234c57b878e058/raw/bebeaae8038f0b418ed37c2a98b82aa9d3cc38d1/Classification%2520of%2520Organisms-Jupyter%2520Data.csv\")\n",
        "\n",
        "#This \"key2\" has the same organisms but has been simplified to make sorting easier\n",
        "key2 = pd.read_csv(\"https://gist.githubusercontent.com/GoodmanSciences/4060d993635e90cdcc46fe637c92ee37/raw/d9031747855b9762b239dea07a60254eaa6051f7/Classification%2520of%2520Organisms-%2520Jupyter%2520Data%2520KEY%25202.csv\")\n"
      ],
      "execution_count": 0,
      "outputs": []
    },
    {
      "metadata": {
        "id": "j_X0Qa2msG5G",
        "colab_type": "text"
      },
      "cell_type": "markdown",
      "source": [
        "# <center>Part 3: Sorting Organisms by <u>One</u> Characteristic</center>\n",
        "---\n",
        "\n",
        "\n"
      ]
    },
    {
      "metadata": {
        "id": "WMe3E1x92B64",
        "colab_type": "text"
      },
      "cell_type": "markdown",
      "source": [
        "We will be looking at the characterists of 75 unique organisms in our Dichotomous Key.  The input below will provide us with a list of some possible organisms you may discover and the different Organism Characteristics/Conditions in our data set.  \n"
      ]
    },
    {
      "metadata": {
        "id": "WIKWXq-1sG5W",
        "colab_type": "code",
        "colab": {}
      },
      "cell_type": "code",
      "source": [
        "# key.columns displays all the column titles of our \"key\" data set.  \n",
        "# These are the categories you can use in your dichotomous key.\n",
        "key.columns"
      ],
      "execution_count": 0,
      "outputs": []
    },
    {
      "metadata": {
        "id": "fxwPsEeqsG5K",
        "colab_type": "code",
        "colab": {}
      },
      "cell_type": "code",
      "source": [
        "# key.organism displays all the names of data that are in the \"organism\" column of our \"key\" data set. \n",
        "# \"organism\" was one of the column titles that our key.columns function showed us, try changing it to \"phylum\".\n",
        "# These are all of the organisms that can be sorted with your dichotomous key.\n",
        "key.organism"
      ],
      "execution_count": 0,
      "outputs": []
    },
    {
      "metadata": {
        "id": "EjMe_yfSsG5i",
        "colab_type": "text"
      },
      "cell_type": "markdown",
      "source": [
        "Did you notice that we've started to give you hints about what each line of code does by adding comments in the coding blocks.  (comments are lines in the coding block that start with the <font color=\"bc7a39\"># symbol and are this color</font>).  This is handy because it lets us put information into the code while telling the notebook not to read that information as if it were code.  We will start doing this more and more as you get better at using Jupyter Notebooks.  \n",
        "\n",
        "<center><font color=\"red\">**Remember:** The best way to learn is to to code is to play with code to see what happens,</font> <u>you can't break this file.</u>  If everything goes wrong just close this tab and reopen the notebook from the index.</font></center>\n",
        "\n",
        "\n",
        "\n"
      ]
    },
    {
      "metadata": {
        "id": "V9VCGXxfpTSI",
        "colab_type": "text"
      },
      "cell_type": "markdown",
      "source": [
        "### <font color=\"magenta\"> ** Part 3 Questions** </font>\n",
        "***Use and modify the section of code below to answer questions 1-3***\n",
        "<br>\n",
        "1. Organisms are classified by shared characteristics.  Is it possible for something to be eukaryotic and prokaryotic at the same time?  Why might this kind of trait be helpful for scientists?\n",
        "<br>\n",
        "<br>\n",
        "2. How many different organisms in our list of 75 have wings?  Are they all similar?  Are “wings” a good characteristic to use for classification?\n",
        "<br>\n",
        "<br>\n",
        "3. Which characteristic gave you the largest list of organisms?  Which gave you the smallest?  Why might this be the case?  "
      ]
    },
    {
      "metadata": {
        "id": "WDI4LZidsG5m",
        "colab_type": "code",
        "colab": {}
      },
      "cell_type": "code",
      "source": [
        "key[(key['wings'] == 'yes')]"
      ],
      "execution_count": 0,
      "outputs": []
    },
    {
      "metadata": {
        "id": "xgXaje920m5C",
        "colab_type": "text"
      },
      "cell_type": "markdown",
      "source": [
        "# <center>Part 4: Sorting Organisms by <u>Many</u> Characteristics</center>"
      ]
    },
    {
      "metadata": {
        "id": "kGGZjVlR2F_h",
        "colab_type": "text"
      },
      "cell_type": "markdown",
      "source": [
        "These are the conditions or the characteristics in which ceratin answers are categorized for certain organisms. Each characteristic/condition has a yes/no except for the Kingdoms. Change the conditionals in the code below to change what organism(s) are displayed. For most, the only change needs to be the 'yes' or 'no'.\n",
        "\n",
        "**<center><font color=\"red\">Capitalization matters so be careful. You also must put in only allowed answers (usually 'yes or 'no') in every condition or the code will break!</font>**</center>\n",
        "\n",
        "\n"
      ]
    },
    {
      "metadata": {
        "id": "nfLiAkjRpuOW",
        "colab_type": "text"
      },
      "cell_type": "markdown",
      "source": [
        "### <font color=\"magenta\"> ** Part 4 Questions** </font>\n",
        "***Use and modify the section of code below to answer questions 4-6 in your coding booklet.***\n",
        "<br>\n",
        "4. Set the list to the characteristics of a cow.  What are some other organisms that are sorted this way?  What new traits would make the cow the only result?\n",
        "<br>\n",
        "<br>\n",
        "5. How would the list of characteristics differ between a whale and dolphin?  \n",
        "<br>\n",
        "\n",
        "6. A zoologist is exploring the jungle when she spots a small, hairy animal.  As she follows the animal she sees it eat nuts from a tree and some insects off the ground.  She also observes that even though it appears to have wings, it seems to prefer to move along the ground.  According to your key, what organism is it most similar to, how do the observed characteristics differ from what you know about this animal?"
      ]
    },
    {
      "metadata": {
        "id": "dT5-E9atsG50",
        "colab_type": "code",
        "colab": {}
      },
      "cell_type": "code",
      "source": [
        "# This conditional allows us to query a column and if the data within that cell matches it will display the animal(s).\n",
        "#if you are unsure of what to put try making that column a comment by adding # in front of it.\n",
        "\n",
        "key[\n",
        "#physical characteristics\n",
        "    (key['fur'] == 'yes') & \\\n",
        "    (key['feathers'] == 'no') & \\\n",
        "    (key['poisonous'] == 'no') & \\\n",
        "    (key['scales'] == 'no') & \\\n",
        "    (key['multicellular'] == 'yes') & \\\n",
        "    (key['fins'] == 'no') & \\\n",
        "    (key['wings'] == 'no') & \\\n",
        "    (key['vertebrate'] == 'yes') & \\\n",
        "    \n",
        "#environmental characteristics\n",
        "    (key['marine'] == 'no') & \\\n",
        "    (key['terrestrial'] == 'yes') & \\\n",
        "    \n",
        "#feeding characteristics\n",
        "    \n",
        "    #decomposers get their food by breaking down decaying organisms\n",
        "    (key['decomposer'] == 'no') & \\\n",
        "    \n",
        "    #carnivores get their food by eating animals\n",
        "    (key['carnivore'] == 'no') & \\\n",
        "    \n",
        "    #herbivores get their food by eating plants\n",
        "    (key['herbivore'] == 'yes') & \\\n",
        "    \n",
        "    #omnivores get their food by eating both plants and animals\n",
        "    (key['omnivore'] == 'no') & \\\n",
        "    \n",
        "    #photosynthesis is the process of making food using energy from sunlight\n",
        "    (key['photosynthesis'] == 'no') & \\\n",
        "    \n",
        "    #autotrophs are organisms that generate their own food inside themselves\n",
        "    (key['autotroph'] == 'no') & \\\n",
        "    \n",
        "#possible kingdoms include: animalia, plantae, fungi\n",
        "    (key['kingdom'] == 'animalia') & \\\n",
        "   \n",
        "#cell type     \n",
        "    (key['eukaryotic'] == 'yes') & \\\n",
        "    (key['prokaryotic'] == 'no')\n",
        "    ]"
      ],
      "execution_count": 0,
      "outputs": []
    },
    {
      "metadata": {
        "id": "jdK_r_Po41aQ",
        "colab_type": "text"
      },
      "cell_type": "markdown",
      "source": [
        "# <center>Part 5: Scientific Classification of Organisms</center>\n",
        "---"
      ]
    },
    {
      "metadata": {
        "id": "hXsHgzKwsG5_",
        "colab_type": "text"
      },
      "cell_type": "markdown",
      "source": [
        "We switched over to our smaller, modified data set for this portion of the activity.  This has removed all of the indicators that are not part of the organisms Linnaen Classification:   **Kingdom → Phylum → Class → Order → Family → Genus → Species.  **\n",
        "\n",
        "We have also restricted this information to only the 4 highest levels of Linnaen Classification (kingdom, phylum, class, and order).  \n",
        "\n",
        "<u>Reflection Questions</u>\n",
        "- What domain do all the organisms being studied belong to?\n",
        "- Why do you think we have excluded everything from family to species from our data set?\n",
        "\n"
      ]
    },
    {
      "metadata": {
        "id": "gjBIv4tWqlyy",
        "colab_type": "text"
      },
      "cell_type": "markdown",
      "source": [
        "### <font color=\"magenta\"> ** Part 5 Questions**</font> \n",
        "<br>\n",
        "***Use and modify the section of code below to answer questions 7 & 8 in your coding booklet.***\n",
        "<br>\n",
        "7. Are all organisms on this list in the same kingdom classified in the same phylum? \n",
        "<br>\n",
        "<br>\n",
        "8. If organisms are in the same order (like rodentia), describe how their kingdom, phylum, and classes compare.  Explain."
      ]
    },
    {
      "metadata": {
        "id": "t7_9287nsG6D",
        "colab_type": "code",
        "colab": {}
      },
      "cell_type": "code",
      "source": [
        "#sort your organisms by their taxonomical (linnaen) classification\n",
        "\n",
        "# This conditional allows us to query a column and if the data within that cell matches, it will display the corresponding animal(s)\n",
        "key2[(key2['kingdom'] == 'animalia')]\n"
      ],
      "execution_count": 0,
      "outputs": []
    },
    {
      "metadata": {
        "id": "6B9pemhesG6N",
        "colab_type": "text"
      },
      "cell_type": "markdown",
      "source": [
        "# <center>Part 6: Unstructured Coding</center>\n",
        "---\n",
        "\n"
      ]
    },
    {
      "metadata": {
        "id": "dPdebtDosZ_G",
        "colab_type": "text"
      },
      "cell_type": "markdown",
      "source": [
        "**Modify the coding blocks below or create new ones to find the answers to questions 9 - 11, write your answers in your coding booklet.**  \n",
        "*hint - it is the same code as you used for questions 7 & 8!*\n",
        "\n",
        "After answering the Part 6 Questions, check out the additional coding blocks are included at the bottom. Play around with and try coding things with them if you have time.  The comments in each block give you clues about what you can do!\n",
        "\n",
        "\n",
        " \n",
        " "
      ]
    },
    {
      "metadata": {
        "id": "QkF3M7CWrSRk",
        "colab_type": "code",
        "colab": {}
      },
      "cell_type": "code",
      "source": [
        "#sort your organisms by their taxonomical (linnaen) classification\n",
        "\n",
        "# This conditional allows us to query a column and if the data within that cell matches, it will display the corresponding animal(s)\n",
        "key2[(key2['kingdom'] == 'animalia')]\n"
      ],
      "execution_count": 0,
      "outputs": []
    },
    {
      "metadata": {
        "id": "NRPySJcRqX_9",
        "colab_type": "text"
      },
      "cell_type": "markdown",
      "source": [
        "\n",
        "### <font color=\"magenta\"> **Part 6 Questions** </font>\n",
        "9. What are two examples of organisms in kingdom plantae?\n",
        "\n",
        "10. What are two examples of organisms in kingdom fungi?\n",
        "\n",
        "11. Find a few poisonous animals by changing the conditional statements."
      ]
    },
    {
      "metadata": {
        "id": "iGTc6pI0q9iz",
        "colab_type": "text"
      },
      "cell_type": "markdown",
      "source": [
        "**Done?  Try the code below!**"
      ]
    },
    {
      "metadata": {
        "id": "j4XHxHEVsG6R",
        "colab_type": "code",
        "colab": {}
      },
      "cell_type": "code",
      "source": [
        "#Done?? Find an image from google image search of one of the organisms you found using the dichotomous key.  See if you can make it display below.\n",
        "from IPython.display import Image\n",
        "from IPython.core.display import HTML \n",
        "Image(url= 'https://lms.mrc.ac.uk/wp-content/uploads/insert-pretty-picture-here1.jpg')"
      ],
      "execution_count": 0,
      "outputs": []
    },
    {
      "metadata": {
        "id": "SvGsFUmBxCqP",
        "colab_type": "code",
        "colab": {}
      },
      "cell_type": "code",
      "source": [
        "#try writing your own code here...\n",
        "\n"
      ],
      "execution_count": 0,
      "outputs": []
    }
  ]
}
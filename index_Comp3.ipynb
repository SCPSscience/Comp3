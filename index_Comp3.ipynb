{
 "cells": [
  {
   "cell_type": "markdown",
   "metadata": {},
   "source": [
    "\n",
    "# 8th Grade Comprehensive 3 Science Jupyter Notebooks\n",
    "\n",
    "![](https://github.com/SCPSscience/data/blob/master/Comp3png.png?raw=true)\n",
    "\n",
    "### What is Jupyter Notebooks?\n",
    "Jupyter Notebooks is a program that simplifies coding into “blocks” that allows code to be sectioned into chunks that are more easily\n",
    "interpreted and meaningful to students and teachers. Jupyter Notebooks also allows the use of section headings, in-code help\n",
    "comments, and easy reset options which make it a great tool for sharing code for others to manipulate and explore. Jupyter\n",
    "Notebooks uses a type of code called Python, this coding language is used in a wide variety of applications including- web\n",
    "development, app development, and most importantly- analysis of experimental results in scientific research.\n",
    "\n",
    "### Why are we doing this?\n",
    "\n",
    "This coding activity uses the same programing language and system used by many scientists around the world. The goal of this activity is to introduce you to the ways that coding is used in the real world. Organizations like CERN in Geneva, Switzerland use Jupyter Notebooks to analyze data from their particle colliders as they study the composition of atoms (other groups include- NASA, Google, & IBM). Each unit this year has a Jupyter Notebook associated with it, each explores different scientific concepts that are\n",
    "part of that unit for your practice and introduces you to new coding functions like creating graphs, customizing graphs, analyzing\n",
    "data, creating data charts, and sorting large amounts of information.\n",
    "\n",
    "Since this is the first time many of you will work with code, the changes you will be making are small. Others of you, who have coded before, will find opportunity to look into different ways code can be used. Each lesson provides an opportunity for “unstructured coding” where you can explore new ideas you might have or work with the information in a new way. Know that coding is often a community effort in which many people contribute, don’t be afraid to ask for help or offer it.\n",
    "\n",
    "### [Jupyter Notebooks Quick Start Guide](https://github.com/SCPSscience/booklet/raw/master/JupyterNotebooksStudentGuide.pdf)\n",
    "\n",
    "\n",
    "### Unit 1 - Change Over Time\n",
    "- [Introduction and Data Analysis with Spark Timer](./11111.ipynb) - Unit 1 - Change Over Time - \n",
    "    [Data Analysis with Spark Timer Coding Booklet](https://github.com/SCPSscience/booklet/raw/master/11111.pdf)\n",
    "![](https://www.sciencelabsupplies.com/images/magictoolbox_cache_from_database/c4b2ca7f18e0c18e5205a76a85c2e5cd.jpg)    \n",
    "    \n",
    "### Unit 2 -  Beyond Our World\n",
    "- [Satelitte Data](./22222.ipynb) - Unit 2 -  Beyond Our World - \n",
    "    [Properties of Stars Coding Booklet](https://github.com/SCPSscience/booklet/raw/master/22222.pdf)\n",
    "![](https://www.thetimes.co.uk/imageserver/image/methode%2Ftimes%2Fprod%2Fweb%2Fbin%2Ffe7fba9c-0298-11e8-a2b0-4e5c7848ab02.jpg?crop=5905%2C3321%2C148%2C576&resize=685)\n",
    "\n",
    "### Unit 3 - Interactions of Spheres\n",
    "- [Global & Local Temperature](./Global_Local_Temp2018.ipynb) - Unit 3 - Interactions of Spheres [Global & Local Temperature Coding Booklet](https://github.com/SCPSscience/booklet/raw/master/Temps.pdf)\n",
    "![](https://www.harris.com/sites/default/files/images/solution/temp-and-moisture-profiles_web.jpg)\n",
    "\n",
    "\n",
    "### Unit 5 - Homeostasis\n",
    "- [Periodic Table](./44444.ipynb) -  Unit 5 - Homeostasis - \n",
    "    [Florida's Water Budget Coding Booklet](https://github.com/SCPSscience/booklet/raw/master/44444.pdf)\n",
    "![](https://images-na.ssl-images-amazon.com/images/I/61qyvoEdxML._SX355_.jpg)\n",
    "    \n"
   ]
  },
  {
   "cell_type": "code",
   "execution_count": null,
   "metadata": {
    "collapsed": true
   },
   "outputs": [],
   "source": []
  }
 ],
 "metadata": {
  "kernelspec": {
   "display_name": "Python 3",
   "language": "python",
   "name": "python3"
  },
  "language_info": {
   "codemirror_mode": {
    "name": "ipython",
    "version": 3
   },
   "file_extension": ".py",
   "mimetype": "text/x-python",
   "name": "python",
   "nbconvert_exporter": "python",
   "pygments_lexer": "ipython3",
   "version": "3.6.0"
  }
 },
 "nbformat": 4,
 "nbformat_minor": 0
}

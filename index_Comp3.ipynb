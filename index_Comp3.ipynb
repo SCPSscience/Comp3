{
  "nbformat": 4,
  "nbformat_minor": 0,
  "metadata": {
    "colab": {
      "name": "index_Comp3.ipynb",
      "version": "0.3.2",
      "provenance": []
    },
    "kernelspec": {
      "display_name": "Python 3",
      "language": "python",
      "name": "python3"
    }
  },
  "cells": [
    {
      "metadata": {
        "id": "4zUhBEa6R29V",
        "colab_type": "text"
      },
      "cell_type": "markdown",
      "source": [
        "\n",
        "# 8th Grade Comprehensive 3 Science Jupyter Notebooks\n",
        "\n",
        "![](https://github.com/SCPSscience/data/blob/master/Comp3png.png?raw=true)\n",
        "\n",
        "### What is Jupyter Notebooks?\n",
        "Jupyter Notebooks is a program that simplifies coding into “blocks” that allows code to be sectioned into chunks that are more easily\n",
        "interpreted and meaningful to students and teachers. Jupyter Notebooks also allows the use of section headings, in-code help\n",
        "comments, and easy reset options which make it a great tool for sharing code for others to manipulate and explore. Jupyter\n",
        "Notebooks uses a type of code called Python, this coding language is used in a wide variety of applications including- web\n",
        "development, app development, and most importantly- analysis of experimental results in scientific research.\n",
        "\n",
        "### Why are we doing this?\n",
        "\n",
        "This coding activity uses the same programing language and system used by many scientists around the world. The goal of this activity is to introduce you to the ways that coding is used in the real world. Organizations like CERN in Geneva, Switzerland use Jupyter Notebooks to analyze data from their particle colliders as they study the composition of atoms (other groups include- NASA, Google, & IBM). Each unit this year has a Jupyter Notebook associated with it, each explores different scientific concepts that are\n",
        "part of that unit for your practice and introduces you to new coding functions like creating graphs, customizing graphs, analyzing\n",
        "data, creating data charts, and sorting large amounts of information.\n",
        "\n",
        "Since this is the first time many of you will work with code, the changes you will be making are small. Others of you, who have coded before, will find opportunity to look into different ways code can be used. Each lesson provides an opportunity for “unstructured coding” where you can explore new ideas you might have or work with the information in a new way. Know that coding is often a community effort in which many people contribute, don’t be afraid to ask for help or offer it.\n",
        "\n",
        "### [Jupyter Notebooks Quick Start Guide](https://github.com/SCPSscience/booklet/raw/master/JupyterNotebooksStudentGuide.pdf)\n",
        "\n",
        "\n",
        "### 8th Grade Inroduction to Jupyter Notebooks with the Periodic Table\n",
        "- [Introduction to Jupyter Notebooks with Periodic Tables](./Intro_Jupyter_Comp3_1812.ipynb) - Unit 1 - Change Over Time - \n",
        "    [Introduction to Jupyter Notebooks with Periodic Tables Coding Booklet](https://drive.google.com/open?id=1c_D8TUwvP5K-diEZMzHVxWSCc8OVv9gJxL4f_n4B-tw)\n",
        "    \n",
        "![](https://lh3.googleusercontent.com/-_oBPGz0glj8/VHJyfCVpcgI/AAAAAAAANuk/-DbSpepPyyw/w530-h369-n/pt.gif)    \n",
        "\n",
        "### Unit 1 - Change Over Time\n",
        "- Motion Lab Data Analysis (Spark Timer or Other) - Unit 1 - Change Over Timer - Motion Lab Data Analysis Coding Booklet\n",
        "\n",
        "\n",
        "### Unit 2 - Beyond Our World\n",
        "- Exploring Satellite Data - Unit 2 - Beyond Our World - Exploring Satellite Data Coding Booklet\n",
        "\n",
        "\n",
        "### Unit 3 - Interactions of Spheres\n",
        "- [Global & Local Temperature](./GL_Temps1812.ipynb) - Unit 3 - Interactions of Spheres -\n",
        "[Global & Local Temperature Coding Booklet](https://drive.google.com/open?id=12tkGghmh10Qx6QNykGHTuVs9nKlKGc1fVVt7PJonuPQ)\n",
        "\n",
        "![](https://www.harris.com/sites/default/files/images/solution/temp-and-moisture-profiles_web.jpg)\n",
        "\n"
      ]
    },
    {
      "metadata": {
        "id": "9SPMJtP6R29b",
        "colab_type": "code",
        "colab": {}
      },
      "cell_type": "code",
      "source": [
        ""
      ],
      "execution_count": 0,
      "outputs": []
    }
  ]
}